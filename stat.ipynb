{
  "nbformat": 4,
  "nbformat_minor": 0,
  "metadata": {
    "colab": {
      "provenance": []
    },
    "kernelspec": {
      "name": "python3",
      "display_name": "Python 3"
    },
    "language_info": {
      "name": "python"
    }
  },
  "cells": [
    {
      "cell_type": "markdown",
      "source": [
        "STATISTICS"
      ],
      "metadata": {
        "id": "4-Altqm9dvzY"
      }
    },
    {
      "cell_type": "markdown",
      "source": [
        "1-: What is the difference between descriptive statistics and inferential statistics? Explain with\n",
        "examples."
      ],
      "metadata": {
        "id": "nPCIfLDLd0RA"
      }
    },
    {
      "cell_type": "markdown",
      "source": [
        "Descriptive statistics summarizes and describes the characteristics of a\n",
        "dataset, while inferential statistics uses sample data to draw conclusions and\n",
        "make predictions about a larger population. Descriptive statistics focuses on\n",
        "what the data is, while inferential statistics focuses on what the data suggests\n",
        "about a broader group\n",
        "\n",
        "Descriptive Statistics:\n",
        "\n",
        "Focus: Summarizing and describing the main features of a dataset.\n",
        "\n",
        "Examples:\n",
        "\n",
        "● Calculating the average (mean), median, and mode of a set of test scores.\n",
        "●\n",
        "● Determining the standard deviation of heights in a class.\n",
        "●\n",
        "● Creating a frequency distribution table to show how many students scored\n",
        "within certain ranges.\n",
        "●\n",
        "● Visualizing data with histograms or bar charts.\n",
        "\n",
        "● Goal: To present a clear and concise picture of the data at hand.\n",
        "Key methods: Measures of central tendency (mean, median, mode), measures\n",
        "of dispersion (standard deviation, variance), frequency distributions, and\n",
        "visualizations.\n",
        "\n",
        "Inferential Statistics:\n",
        "\n",
        "Focus:\n",
        "\n",
        "Drawing conclusions and making predictions about a population based on a\n",
        "sample of data.\n",
        "\n",
        "Examples:\n",
        "\n",
        "● Using a sample of voters to predict the outcome of an election.\n",
        "● Conducting a clinical trial to test the effectiveness of a new drug on a\n",
        "sample of patients and then inferring its effectiveness for the general\n",
        "population.\n",
        "● Using data from a survey to estimate the average income of all\n",
        "households in a city.\n",
        "Goal:\n",
        "To generalize findings from a sample to a larger population and and make informed decisions."
      ],
      "metadata": {
        "id": "MIXZxxnnd2wo"
      }
    },
    {
      "cell_type": "markdown",
      "source": [
        "2- What is sampling in statistics? Explain the differences between random and stratified sampling."
      ],
      "metadata": {
        "id": "MybPIx50eqKY"
      }
    },
    {
      "cell_type": "markdown",
      "source": [
        "In statistics, sampling is the process of selecting a subset of individuals or\n",
        "data points from a larger population to study and draw conclusions about the\n",
        "entire population. Simple random sampling involves giving every member of\n",
        "the population an equal chance of being selected, while stratified random\n",
        "sampling divides the population into subgroups (strata) based on specific\n",
        "characteristics and then selects samples from each stratum.\n",
        "Simple Random Sampling:\n",
        "Definition:\n",
        "Every member of the population has an equal and independent chance of being\n",
        "selected for the sample.\n",
        "Process:\n",
        "A random number generator or other unbiased method is used to select\n",
        "individuals from the entire population.\n",
        "Example:\n",
        "Imagine surveying a class of 50 students. You could assign each student a\n",
        "number, put the numbers in a hat, and draw 10 numbers to select the sample.\n",
        "Advantage:\n",
        "Easy to implement and avoids bias if done correctly.\n",
        "Disadvantage:\n",
        "Might not accurately represent the population if there are significant subgroups\n",
        "with varying characteristics. Minority groups might be underrepresented.\n",
        " Stratified Random Sampling:\n",
        "Definition:\n",
        "The population is divided into subgroups (strata) based on specific\n",
        "characteristics (e.g., age, gender, income), and then a random sample is\n",
        "selected from each stratum.\n",
        "Process:\n",
        "The population is first divided into strata, then a random sample is drawn from\n",
        "each stratum, potentially proportionally to their size in the population.\n",
        "Example:\n",
        "If conducting a survey on a company's employees, you might divide the\n",
        "employees into strata based on their department, then randomly sample a certain\n",
        "number of employees from each department.\n",
        "Advantage:\n",
        "Ensures representation of all subgroups within the population, leading to more\n",
        "accurate and reliable results.\n",
        "Disadvantage:\n",
        "Requires knowledge of the population's characteristics to create meaningful\n",
        "strata. It can be more complex and time-consuming to implement than simple\n",
        "random sampling.\n"
      ],
      "metadata": {
        "id": "1aBcL90-eyWn"
      }
    },
    {
      "cell_type": "markdown",
      "source": [
        "3- Define mean, median, and mode. Explain why these measures of central tendency are important."
      ],
      "metadata": {
        "id": "3PDC-RFUe5If"
      }
    },
    {
      "cell_type": "markdown",
      "source": [
        "Mean, median, and mode are measures of central tendency used to describe\n",
        "the typical or average value within a dataset. The mean is the average,\n",
        "calculated by summing all values and dividing by the number of values. The\n",
        "median is the middle value when the data is ordered. The mode is the most\n",
        "frequently occurring value. These measures are important because they\n",
        "provide a single value that summarizes the entire dataset, making it easier to\n",
        "understand and compare different datasets.\n",
        "Importance:\n",
        "Summarization:\n",
        "These measures allow for a quick and easy summary of a dataset, providing a\n",
        "single value that represents the typical or central value. This is especially useful\n",
        "when dealing with large datasets.\n",
        "Comparison:\n",
        "Mean, median, and mode can be used to compare different datasets. For\n",
        "example, you can compare the average income of two different cities or the most\n",
        "frequent shoe size in two different stores.\n",
        "Decision-Making:\n",
        "Understanding the central tendency of a dataset is crucial for informed\n",
        "decision-making. For example, a business might use the median income of a\n",
        "neighborhood to decide whether to open a new store.\n",
        "Data Analysis:\n",
        "These measures are fundamental in various statistical analyses. They help in\n",
        "understanding the distribution of data, identifying patterns, and drawing\n",
        "meaningful conclusions"
      ],
      "metadata": {
        "id": "2HocSO3Ae9wX"
      }
    },
    {
      "cell_type": "markdown",
      "source": [
        "4-: Explain skewness and kurtosis. What does a positive skew imply about the\n",
        "data?"
      ],
      "metadata": {
        "id": "KU__ad2EfDGG"
      }
    },
    {
      "cell_type": "markdown",
      "source": [
        "Skewness measures a distribution's asymmetry (lack of symmetry),\n",
        "indicating if data points are concentrated on one side of the mean, while\n",
        "kurtosis measures the \"tailedness\" or peakedness of the distribution,\n",
        "describing the presence of outliers and the sharpness of the peak. A positive\n",
        "skew implies the data has a long \"tail\" on the right, meaning most data points\n",
        "are clustered on the left side of the mean, with a few high-value outliers\n",
        "pulling the mean higher than the median.\n",
        "Positive Skew: The right tail of the distribution is longer or fatter. This indicates that\n",
        "most data values are clustered on the lower end, with a few unusually high values\n",
        "pulling the mean higher. The mean is greater than the median in a positively skewed\n",
        "distribution"
      ],
      "metadata": {
        "id": "jv0KuRz6fJkH"
      }
    },
    {
      "cell_type": "markdown",
      "source": [
        "5- Implement a Python program to compute the mean, median, and mode of a given list\n",
        "of numbers.\n",
        "numbers = [12, 15, 12, 18, 19, 12, 20, 22, 19, 19, 24, 24, 24, 26, 28] (Include your\n",
        "Python code and output in the code box below.)"
      ],
      "metadata": {
        "id": "ZatdTC8efNaH"
      }
    },
    {
      "cell_type": "code",
      "source": [
        "from collections import Counter\n",
        "\n",
        "def calculate_mean(numbers):\n",
        "    \"\"\"Calculates the mean (average) of a list of numbers.\"\"\"\n",
        "    if not numbers:\n",
        "        return 0\n",
        "    return sum(numbers) / len(numbers)\n",
        "\n",
        "def calculate_median(numbers):\n",
        "    \"\"\"Calculates the median of a list of numbers.\"\"\"\n",
        "    if not numbers:\n",
        "        return None\n",
        "    sorted_numbers = sorted(numbers)\n",
        "    n = len(sorted_numbers)\n",
        "    if n % 2 == 1:\n",
        "        # Odd number of elements\n",
        "        return sorted_numbers[n // 2]\n",
        "    else:\n",
        "        # Even number of elements\n",
        "        mid1 = sorted_numbers[n // 2 - 1]\n",
        "        mid2 = sorted_numbers[n // 2]\n",
        "        return (mid1 + mid2) / 2\n",
        "\n",
        "def calculate_mode(numbers):\n",
        "    \"\"\"Calculates the mode(s) of a list of numbers.\"\"\"\n",
        "    if not numbers:\n",
        "        return []\n",
        "    counts = Counter(numbers)\n",
        "    max_count = max(counts.values())\n",
        "    modes = [key for key, value in counts.items() if value == max_count]\n",
        "    return sorted(modes) # Return modes in ascending order\n",
        "\n",
        "# Given list of numbers\n",
        "numbers = [12, 15, 12, 18, 19, 12, 20, 22, 19, 19, 24, 24, 24, 26, 28]\n",
        "\n",
        "# Calculate and print the results\n",
        "mean_value = calculate_mean(numbers)\n",
        "median_value = calculate_median(numbers)\n",
        "mode_values = calculate_mode(numbers)\n",
        "\n",
        "print(f\"Numbers: {numbers}\")\n",
        "print(f\"Mean: {mean_value}\")\n",
        "print(f\"Median: {median_value}\")\n",
        "print(f\"Mode(s): {mode_values}\")"
      ],
      "metadata": {
        "colab": {
          "base_uri": "https://localhost:8080/"
        },
        "id": "YTnsb2qagBL-",
        "outputId": "3c1a37f9-a848-4e0c-d387-8a8f2e4eda1f"
      },
      "execution_count": 2,
      "outputs": [
        {
          "output_type": "stream",
          "name": "stdout",
          "text": [
            "Numbers: [12, 15, 12, 18, 19, 12, 20, 22, 19, 19, 24, 24, 24, 26, 28]\n",
            "Mean: 19.6\n",
            "Median: 19\n",
            "Mode(s): [12, 19, 24]\n"
          ]
        }
      ]
    },
    {
      "cell_type": "markdown",
      "source": [
        "6- Compute the covariance and correlation coefficient between the following two\n",
        "datasets provided as lists in Python:\n",
        "list_x = [10, 20, 30, 40, 50]\n",
        "list_y = [15, 25, 35, 45, 60]\n",
        "(Include your Python code and output in the code box below.)"
      ],
      "metadata": {
        "id": "yvcjVRP7gDRP"
      }
    },
    {
      "cell_type": "code",
      "source": [
        "import numpy as np\n",
        "\n",
        "# Provided datasets\n",
        "list_x = [10, 20, 30, 40, 50]\n",
        "list_y = [15, 25, 35, 45, 60]\n",
        "\n",
        "# Convert lists to NumPy arrays for calculation\n",
        "x = np.array(list_x)\n",
        "y = np.array(list_y)\n",
        "\n",
        "# Calculate the covariance matrix\n",
        "# The covariance of X and Y is given by the off-diagonal elements [0, 1] or [1, 0]\n",
        "covariance_matrix = np.cov(x, y)\n",
        "covariance = covariance_matrix[0, 1]\n",
        "\n",
        "# Calculate the correlation coefficient matrix\n",
        "# The correlation coefficient is the off-diagonal element [0, 1] or [1, 0]\n",
        "correlation_matrix = np.corrcoef(x, y)\n",
        "correlation_coefficient = correlation_matrix[0, 1]\n",
        "\n",
        "print(\"List x:\", list_x)\n",
        "print(\"List y:\", list_y)\n",
        "print(\"\\nCovariance Matrix:\\n\", covariance_matrix)\n",
        "print(\"\\nCovariance (between x and y):\", covariance)\n",
        "print(\"\\nCorrelation Coefficient Matrix:\\n\", correlation_matrix)\n",
        "print(\"\\nCorrelation Coefficient (between x and y):\", correlation_coefficient)\n"
      ],
      "metadata": {
        "colab": {
          "base_uri": "https://localhost:8080/"
        },
        "id": "a6nJFnuSgJje",
        "outputId": "3e47bc85-e328-437e-e1f5-d597018a8dc3"
      },
      "execution_count": 3,
      "outputs": [
        {
          "output_type": "stream",
          "name": "stdout",
          "text": [
            "List x: [10, 20, 30, 40, 50]\n",
            "List y: [15, 25, 35, 45, 60]\n",
            "\n",
            "Covariance Matrix:\n",
            " [[250. 275.]\n",
            " [275. 305.]]\n",
            "\n",
            "Covariance (between x and y): 275.0\n",
            "\n",
            "Correlation Coefficient Matrix:\n",
            " [[1.         0.99589321]\n",
            " [0.99589321 1.        ]]\n",
            "\n",
            "Correlation Coefficient (between x and y): 0.995893206467704\n"
          ]
        }
      ]
    },
    {
      "cell_type": "markdown",
      "source": [
        "7-: Write a Python script to draw a boxplot for the following numeric list and identify its\n",
        "outliers. Explain the result:\n",
        "data = [12, 14, 14, 15, 18, 19, 19, 21, 22, 22, 23, 23, 24, 26, 29, 35]\n",
        "(Include your Python code and output in the code box below.)"
      ],
      "metadata": {
        "id": "YNFl5vKYgPVO"
      }
    },
    {
      "cell_type": "code",
      "source": [
        "import matplotlib.pyplot as plt\n",
        "import numpy as np\n",
        "\n",
        "data = [12, 14, 14, 15, 18, 19, 19, 21, 22, 22, 23, 23, 24, 26, 29, 35]\n",
        "\n",
        "# Create a boxplot\n",
        "plt.figure(figsize=(8, 6))\n",
        "plt.boxplot(data)\n",
        "plt.title('Boxplot of Data')\n",
        "plt.ylabel('Value')\n",
        "plt.grid(True)\n",
        "plt.show()\n",
        "\n",
        "# Calculate quartiles and IQR to identify outliers\n",
        "Q1 = np.percentile(data, 25)\n",
        "Q3 = np.percentile(data, 75)\n",
        "IQR = Q3 - Q1\n",
        "\n",
        "lower_bound = Q1 - 1.5 * IQR\n",
        "upper_bound = Q3 + 1.5 * IQR\n",
        "\n",
        "outliers = [x for x in data if x < lower_bound or x > upper_bound]\n",
        "\n",
        "print(f\"First Quartile (Q1): {Q1}\")\n",
        "print(f\"Third Quartile (Q3): {Q3}\")\n",
        "print(f\"Interquartile Range (IQR): {IQR}\")\n",
        "print(f\"Lower Bound for Outliers: {lower_bound}\")\n",
        "print(f\"Upper Bound for Outliers: {upper_bound}\")\n",
        "print(f\"Identified Outliers: {outliers}\")"
      ],
      "metadata": {
        "colab": {
          "base_uri": "https://localhost:8080/",
          "height": 658
        },
        "id": "sQ2o6S0FgS5m",
        "outputId": "78718b39-24b7-4426-b612-12686b778cdc"
      },
      "execution_count": 4,
      "outputs": [
        {
          "output_type": "display_data",
          "data": {
            "text/plain": [
              "<Figure size 800x600 with 1 Axes>"
            ],
            "image/png": "[encoded data removed]"
          },
          "metadata": {}
        },
        {
          "output_type": "stream",
          "name": "stdout",
          "text": [
            "First Quartile (Q1): 17.25\n",
            "Third Quartile (Q3): 23.25\n",
            "Interquartile Range (IQR): 6.0\n",
            "Lower Bound for Outliers: 8.25\n",
            "Upper Bound for Outliers: 32.25\n",
            "Identified Outliers: [35]\n"
          ]
        }
      ]
    },
    {
      "cell_type": "markdown",
      "source": [
        "8-You are working as a data analyst in an e-commerce company. The marketing team\n",
        "wants to know if there is a relationship between advertising spend and daily sales.\n",
        "● Explain how you would use covariance and correlation to explore this relationship. ●\n",
        "Write Python code to compute the correlation between the two lists:\n",
        "advertising_spend = [200, 250, 300, 400, 500]\n",
        " daily_sales = [2200, 2450, 2750, 3200, 4000]\n",
        "(Include your Python code and output in the code box below.)"
      ],
      "metadata": {
        "id": "hMQZY16fgYMv"
      }
    },
    {
      "cell_type": "code",
      "source": [
        "import numpy as np\n",
        "\n",
        "advertising_spend = [200, 250, 300, 400, 500]\n",
        "daily_sales = [2200, 2450, 2750, 3200, 4000]\n",
        "\n",
        "# Calculate the correlation matrix using np.corrcoef()\n",
        "correlation_matrix = np.corrcoef(advertising_spend, daily_sales)\n",
        "\n",
        "# The correlation coefficient is at position [0, 1] or [1, 0] in the matrix\n",
        "correlation_coefficient = correlation_matrix[0, 1]\n",
        "\n",
        "print(\"Correlation Matrix:\")\n",
        "print(correlation_matrix)\n",
        "print(f\"\\nCorrelation between advertising spend and daily sales: {correlation_coefficient:.4f}\")\n"
      ],
      "metadata": {
        "colab": {
          "base_uri": "https://localhost:8080/"
        },
        "id": "98sRgBkQgc8H",
        "outputId": "5c966044-02bd-4307-80be-a2c319eeb85f"
      },
      "execution_count": 5,
      "outputs": [
        {
          "output_type": "stream",
          "name": "stdout",
          "text": [
            "Correlation Matrix:\n",
            "[[1.         0.99358241]\n",
            " [0.99358241 1.        ]]\n",
            "\n",
            "Correlation between advertising spend and daily sales: 0.9936\n"
          ]
        }
      ]
    },
    {
      "cell_type": "markdown",
      "source": [
        "9-Your team has collected customer satisfaction survey data on a scale of 1-10 and\n",
        "wants to understand its distribution before launching a new product.\n",
        "● Explain which summary statistics and visualizations (e.g. mean, standard deviation,\n",
        "histogram) you’d use.\n",
        "● Write Python code to create a histogram using Matplotlib for the survey data:\n",
        "survey_scores = [7, 8, 5, 9, 6, 7, 8, 9, 10, 4, 7, 6, 9, 8, 7]\n",
        "(Include your Python code and output in the code box below.)"
      ],
      "metadata": {
        "id": "U4JZB_ADgmEW"
      }
    },
    {
      "cell_type": "markdown",
      "source": [
        "Histogram: A visual representation of the distribution of the data. It shows the frequency of each score and helps identify the central tendency and spread at a glance. For satisfaction scores on a 1-10 scale, a histogram would quickly show which scores are most common and whether the distribution is skewed towards high or low satisfaction.\n",
        "Box Plot: A chart that displays the five-number summary. It's excellent for visualizing the range of scores, the median, and identifying any outliers.\n",
        "Bar Chart: While similar to a histogram for discrete data like a 1-10 scale, a bar chart specifically represents the frequency of each individual score as a separate bar. It's an effective and straightforward way to compare the count for each rating"
      ],
      "metadata": {
        "id": "rfSS08uNgunv"
      }
    },
    {
      "cell_type": "code",
      "source": [
        "import matplotlib.pyplot as plt\n",
        "\n",
        "# Survey data on a scale of 1-10\n",
        "survey_scores = [7, 8, 5, 9, 6, 7, 8, 9, 10, 4, 7, 6, 9, 8, 7]\n",
        "\n",
        "# Create the histogram\n",
        "plt.hist(survey_scores, bins=range(1, 12), edgecolor='black', rwidth=0.8)\n",
        "\n",
        "# Add titles and labels for clarity\n",
        "plt.title('Customer Satisfaction Survey Scores Distribution')\n",
        "plt.xlabel('Satisfaction Score')\n",
        "plt.ylabel('Frequency')\n",
        "plt.xticks(range(1, 11)) # Ensure x-axis ticks align with scores\n",
        "\n",
        "# Display the plot\n",
        "plt.show()\n"
      ],
      "metadata": {
        "colab": {
          "base_uri": "https://localhost:8080/",
          "height": 472
        },
        "id": "tvsbSSO9gypW",
        "outputId": "9117b6bd-e7dc-41dd-b0c1-00702df097a7"
      },
      "execution_count": 6,
      "outputs": [
        {
          "output_type": "display_data",
          "data": {
            "text/plain": [
              "<Figure size 640x480 with 1 Axes>"
            ],
            "image/png": "[encoded data removed]"
          },
          "metadata": {}
        }
      ]
    }
  ]
}